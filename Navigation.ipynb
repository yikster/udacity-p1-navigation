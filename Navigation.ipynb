{
 "cells": [
  {
   "cell_type": "markdown",
   "metadata": {},
   "source": [
    "# Navigation - Udacity Project 1\n",
    "\n",
    "---\n",
    "\n",
    "In this notebook, you will learn how to use the Unity ML-Agents environment for the first project of the [Deep Reinforcement Learning Nanodegree](https://www.udacity.com/course/deep-reinforcement-learning-nanodegree--nd893).\n",
    "\n",
    "### 1. Start the Environment\n",
    "\n",
    "We begin by importing some necessary packages.  If the code cell below returns an error, please revisit the project instructions to double-check that you have installed [Unity ML-Agents](https://github.com/Unity-Technologies/ml-agents/blob/master/docs/Installation.md) and [NumPy](http://www.numpy.org/).\n",
    "\n"
   ]
  },
  {
   "cell_type": "code",
   "execution_count": 2,
   "metadata": {},
   "outputs": [],
   "source": [
    "from unityagents import UnityEnvironment\n",
    "import torch\n",
    "import pandas as pd\n",
    "import numpy as np\n",
    "from collections import deque\n",
    "import matplotlib.pyplot as plt\n",
    "%matplotlib inline"
   ]
  },
  {
   "cell_type": "markdown",
   "metadata": {},
   "source": [
    "Next, we will start the environment!  **_Before running the code cell below_**, change the `file_name` parameter to match the location of the Unity environment that you downloaded.\n",
    "\n",
    "- **Mac**: `\"path/to/Banana.app\"`\n",
    "- **Windows** (x86): `\"path/to/Banana_Windows_x86/Banana.exe\"`\n",
    "- **Windows** (x86_64): `\"path/to/Banana_Windows_x86_64/Banana.exe\"`\n",
    "- **Linux** (x86): `\"path/to/Banana_Linux/Banana.x86\"`\n",
    "- **Linux** (x86_64): `\"path/to/Banana_Linux/Banana.x86_64\"`\n",
    "- **Linux** (x86, headless): `\"path/to/Banana_Linux_NoVis/Banana.x86\"`\n",
    "- **Linux** (x86_64, headless): `\"path/to/Banana_Linux_NoVis/Banana.x86_64\"`\n",
    "\n",
    "For instance, if you are using a Mac, then you downloaded `Banana.app`.  If this file is in the same folder as the notebook, then the line below should appear as follows:\n",
    "```\n",
    "env = UnityEnvironment(file_name=\"Banana.app\")\n",
    "```"
   ]
  },
  {
   "cell_type": "code",
   "execution_count": 3,
   "metadata": {},
   "outputs": [
    {
     "name": "stderr",
     "output_type": "stream",
     "text": [
      "INFO:unityagents:\n",
      "'Academy' started successfully!\n",
      "Unity Academy name: Academy\n",
      "        Number of Brains: 1\n",
      "        Number of External Brains : 1\n",
      "        Lesson number : 0\n",
      "        Reset Parameters :\n",
      "\t\t\n",
      "Unity brain name: BananaBrain\n",
      "        Number of Visual Observations (per agent): 0\n",
      "        Vector Observation space type: continuous\n",
      "        Vector Observation space size (per agent): 37\n",
      "        Number of stacked Vector Observation: 1\n",
      "        Vector Action space type: discrete\n",
      "        Vector Action space size (per agent): 4\n",
      "        Vector Action descriptions: , , , \n"
     ]
    }
   ],
   "source": [
    "#!pwd\n",
    "env = UnityEnvironment(file_name=\"Banana_Linux/Banana.x86_64\",no_graphics=True)"
   ]
  },
  {
   "cell_type": "markdown",
   "metadata": {},
   "source": [
    "Environments contain **_brains_** which are responsible for deciding the actions of their associated agents. Here we check for the first brain available, and set it as the default brain we will be controlling from Python."
   ]
  },
  {
   "cell_type": "code",
   "execution_count": 4,
   "metadata": {},
   "outputs": [],
   "source": [
    "# get the default brain\n",
    "brain_name = env.brain_names[0]\n",
    "brain = env.brains[brain_name]"
   ]
  },
  {
   "cell_type": "markdown",
   "metadata": {},
   "source": [
    "### 2. Examine the State and Action Spaces\n",
    "\n",
    "The simulation contains a single agent that navigates a large environment.  At each time step, it has four actions at its disposal:\n",
    "- 0 - walk forward \n",
    "- 1 - walk backward\n",
    "- 2 - turn left\n",
    "- 3 - turn right\n",
    "\n",
    "The state space has 37 dimensions and contains the agent's velocity, along with ray-based perception of objects around agent's forward direction.  A reward of +1 is provided for collecting a yellow banana, and a reward of -1 is provided for collecting a blue banana. \n",
    "\n",
    "Run the code cell below to print some information about the environment."
   ]
  },
  {
   "cell_type": "code",
   "execution_count": 5,
   "metadata": {},
   "outputs": [
    {
     "name": "stdout",
     "output_type": "stream",
     "text": [
      "Number of agents: 1\n",
      "Number of actions: 4\n",
      "States look like: [1.         0.         0.         0.         0.84408134 0.\n",
      " 0.         1.         0.         0.0748472  0.         1.\n",
      " 0.         0.         0.25755    1.         0.         0.\n",
      " 0.         0.74177343 0.         1.         0.         0.\n",
      " 0.25854847 0.         0.         1.         0.         0.09355672\n",
      " 0.         1.         0.         0.         0.31969345 0.\n",
      " 0.        ]\n",
      "States have length: 37\n"
     ]
    }
   ],
   "source": [
    "# reset the environment\n",
    "env_info = env.reset(train_mode=True)[brain_name]\n",
    "\n",
    "# number of agents in the environment\n",
    "print('Number of agents:', len(env_info.agents))\n",
    "\n",
    "# number of actions\n",
    "action_size = brain.vector_action_space_size\n",
    "print('Number of actions:', action_size)\n",
    "\n",
    "# examine the state space \n",
    "state = env_info.vector_observations[0]\n",
    "print('States look like:', state)\n",
    "state_size = len(state)\n",
    "print('States have length:', state_size)"
   ]
  },
  {
   "cell_type": "markdown",
   "metadata": {},
   "source": [
    "### 3. Train the Agent \n",
    "In the next code cell, we will use Python API to control the agent and receive feedback from the environment. \n",
    "\n",
    "We'll intialize the agent with various versions of DQN algorithms by parameters. \n",
    "\n",
    "The parameters are below:\n",
    "\n",
    "---\n",
    "**use_deul_dqn**: True/False  \n",
    "**use_double_dqn**: True/False\n",
    "\n",
    "    agent = Agent(state_size, action_size, seed=0, \n",
    "            fc1_nodes=128, fc2_nodes=64, \n",
    "            use_double_dqn=True,  use_duel_dqn=True)\n",
    "\n"
   ]
  },
  {
   "cell_type": "code",
   "execution_count": 6,
   "metadata": {},
   "outputs": [],
   "source": [
    "from dqn_agent import Agent\n",
    "import importlib\n",
    "\n",
    "importlib.import_module(\"dqn_agent\").Agent\n",
    "\n",
    "condition=[]\n",
    "score_history= []\n",
    "mean_score_history=[]\n",
    "first_episode_achieved=[]"
   ]
  },
  {
   "cell_type": "code",
   "execution_count": 16,
   "metadata": {},
   "outputs": [],
   "source": [
    "#Define train \n",
    "def train_agent(agent, n_episodes=500, max_t=500, eps_start=1.0, eps_end=0.01, eps_decay=0.995):\n",
    "    \"\"\"Deep Q-Learning.\n",
    "    \n",
    "    Params\n",
    "    ======\n",
    "        n_episodes (int): maximum number of training episodes\n",
    "        max_t (int): maximum number of timesteps per episode\n",
    "        eps_start (float): starting value of epsilon, for epsilon-greedy action selection\n",
    "        eps_end (float): minimum value of epsilon\n",
    "        eps_decay (float): multiplicative factor (per episode) for decreasing epsilon\n",
    "    \"\"\"\n",
    "    scores = []                        # list containing scores from each episode\n",
    "    mean_scores=[]\n",
    "    scores_window = deque(maxlen=100)  # last 100 scores\n",
    "    eps = eps_start                    # initialize epsilon\n",
    "    last_mean_max=13\n",
    "    first_print= True\n",
    "    episode_achieved=0\n",
    "    for i_episode in range(1, n_episodes+1):\n",
    "        env_info = env.reset(train_mode=True)[brain_name]\n",
    "        state = env_info.vector_observations[0]\n",
    "        score = 0\n",
    "        while True:\n",
    "            action = agent.act(state, eps)\n",
    "            env_info = env.step(action)[brain_name]\n",
    "            next_state = env_info.vector_observations[0]\n",
    "            reward = env_info.rewards[0]                   # get the reward\n",
    "            done = env_info.local_done[0]                  # see if episode has finished\n",
    "            score += reward                                # update the score\n",
    "            agent.step(state, action, reward, next_state, done) # learning step\n",
    "            state = next_state\n",
    "            if done:\n",
    "               break\n",
    "                \n",
    "        scores_window.append(score)       # save most recent score\n",
    "        scores.append(score)              # save most recent score      \n",
    "        mean_scores.append(np.mean(scores_window)) # Save Mean scores for plotting purpose\n",
    "        eps = max(eps_end, eps_decay*eps) # decrease epsilon\n",
    "        \n",
    "        print('\\rEpisode %4d\\tAverage Score: %.2f' % (i_episode, np.mean(scores_window)), end=\"\")\n",
    "        if i_episode % 100 == 0:\n",
    "            print('\\rEpisode %4d\\tAverage Score: %.2f' %(i_episode, np.mean(scores_window)))\n",
    "            \n",
    "        if np.mean(scores_window)>=13:\n",
    "            if first_print:\n",
    "                print('\\nGoal(+13) in %4d episodes!\\tAverage Score: %.2f' % (i_episode-100, np.mean(scores_window)))\n",
    "                episode_achieved=i_episode-100\n",
    "                first_print = False\n",
    "            if np.mean(scores_window)>last_mean_max:\n",
    "                last_mean_max=np.mean(scores_window)\n",
    "                torch.save(agent.qnetwork_local.state_dict(), 'model.pth')\n",
    "            \n",
    "    return scores, mean_scores, episode_achieved\n",
    "\n"
   ]
  },
  {
   "cell_type": "code",
   "execution_count": 17,
   "metadata": {},
   "outputs": [],
   "source": [
    "def plot_scores(scores, score_label, mean_scores):\n",
    "    # plot the scores\n",
    "    fig = plt.figure()\n",
    "    ax = fig.add_subplot(111)\n",
    "    plt.plot(np.arange(len(scores)), scores, label=score_label)\n",
    "    plt.plot(np.arange(len(scores)), mean_scores, c='r', label='Mean Avearge Score')\n",
    "    plt.ylabel('Score')\n",
    "    plt.xlabel('Episode #')\n",
    "    plt.legend(loc='upper left')\n",
    "    plt.show()    "
   ]
  },
  {
   "cell_type": "code",
   "execution_count": 18,
   "metadata": {},
   "outputs": [],
   "source": [
    "def run_agent(p_use_duel_dqn, p_use_double_dqn, p_model_layout):\n",
    "    agent = Agent(state_size, action_size, seed=0, use_duel_dqn=p_use_duel_dqn, use_double_dqn=p_use_double_dqn, model_layout=p_model_layout)\n",
    "    scores, mean_scores,episode_achieved = train_agent(agent)\n",
    "    condition.append([0, 0,p_model_layout])\n",
    "    score_history.append(max(scores))\n",
    "    mean_score_history.append(max(mean_scores))\n",
    "    first_episode_achieved.append(episode_achieved)\n",
    "\n",
    "    plot_scores(scores, p_model_layout, mean_scores)\n",
    "\n"
   ]
  },
  {
   "cell_type": "markdown",
   "metadata": {},
   "source": [
    "#### Train Agent with DQN Agent with Replay Buffer\n",
    "\n",
    "<img src='images/dqn_summary.JPG' height=800, width=500, align=left>\n"
   ]
  },
  {
   "cell_type": "code",
   "execution_count": null,
   "metadata": {},
   "outputs": [
    {
     "name": "stdout",
     "output_type": "stream",
     "text": [
      "Episode   38\tAverage Score: 0.003"
     ]
    }
   ],
   "source": [
    "\n",
    "run_agent(p_use_duel_dqn=False, p_use_double_dqn=False,p_model_layout=\"64_2_layers\")\n"
   ]
  },
  {
   "cell_type": "markdown",
   "metadata": {},
   "source": [
    "#### Train agent with double dqn algorithm\n",
    "DQN has the issue of overestimation of Q-Values, we can try to use double DQN alogorithms. \n",
    "\n",
    "\n",
    "<img src='images/why-double-DQN.JPG' height=500, width=300 align=left>\n",
    "<img src='images/double_dqn.JPG' height=500, width=300>\n"
   ]
  },
  {
   "cell_type": "markdown",
   "metadata": {},
   "source": [
    "[Double Q-Learning](https://arxiv.org/pdf/1509.06461.pdf) uses local Q network to pick next argmax(Q(s,a)) action and uses target network to compute target Q values. please see code below under the \"dpn_agent.py\"\n",
    "\n",
    "<img src='images/double_dqn_equation.JPG' height=600, width=400>\n",
    "\n",
    "\n",
    "    if self.use_double_dqn:\n",
    "            localQ_max_action = torch.argmax(self.qnetwork_local(next_states).detach(),1)\n",
    "            Q_targets_next = self.qnetwork_target(next_states).detach().gather(1,localQ_max_action.unsqueeze(1))\n",
    "        else:\n",
    "            Q_targets_next = self.qnetwork_target(next_states).detach().max(1)[0].unsqueeze(1)\n",
    "            "
   ]
  },
  {
   "cell_type": "code",
   "execution_count": null,
   "metadata": {},
   "outputs": [
    {
     "name": "stdout",
     "output_type": "stream",
     "text": [
      "Episode 100\tAverage Score: 0.61\n",
      "Episode 200\tAverage Score: 4.42\n",
      "Episode 300\tAverage Score: 7.75\n",
      "Episode 400\tAverage Score: 9.972\n",
      "Episode 486\tAverage Score: 13.01\n",
      "Environment solved in 386 episodes!\tAverage Score: 13.01\n",
      "Episode 500\tAverage Score: 13.42\n",
      "Episode 600\tAverage Score: 15.41\n",
      "Episode 700\tAverage Score: 15.12\n",
      "Episode 800\tAverage Score: 15.95\n",
      "Episode 900\tAverage Score: 16.59\n",
      "Episode 1000\tAverage Score: 16.38\n",
      "Episode 1100\tAverage Score: 15.73\n",
      "Episode 1200\tAverage Score: 16.59\n",
      "Episode 1300\tAverage Score: 16.36\n",
      "Episode 1400\tAverage Score: 16.76\n",
      "Episode 1500\tAverage Score: 16.00\n",
      "Episode 1600\tAverage Score: 16.07\n",
      "Episode 1700\tAverage Score: 16.08\n",
      "Episode 1800\tAverage Score: 16.68\n"
     ]
    },
    {
     "data": {
      "image/png": "[encoded data removed]",
      "text/plain": [
       "<Figure size 432x288 with 1 Axes>"
      ]
     },
     "metadata": {},
     "output_type": "display_data"
    }
   ],
   "source": [
    "#Train Agent with Double DQN Agent \n",
    "agent = Agent(state_size, action_size, seed=0,use_duel_dqn=False, use_double_dqn=True, use_basic=True)\n",
    "\n",
    "scores, mean_scores,episode_achieved = train_agent(agent)\n",
    "condition.append([0, 1,'FC64'])\n",
    "score_history.append(max(scores))\n",
    "mean_score_history.append(max(mean_scores))\n",
    "first_episode_achieved.append(episode_achieved)\n",
    "\n",
    "# plot the scores\n",
    "fig = plt.figure()\n",
    "ax = fig.add_subplot(111)\n",
    "plt.plot(np.arange(len(scores)), scores, label='Double DQN+FC64')\n",
    "plt.plot(np.arange(len(scores)), mean_scores, c='r', label='Mean Avearge Score')\n",
    "plt.ylabel('Score')\n",
    "plt.xlabel('Episode #')\n",
    "plt.legend(loc='upper left')\n",
    "plt.show()\n",
    "\n"
   ]
  },
  {
   "cell_type": "markdown",
   "metadata": {},
   "source": [
    "#### Train Agent with Deuling and Double DQN algorithm. \n",
    "\n",
    "In order to determine which states are (or are not) valuable, we have to estimate the corresponding action values for each action. However, by replacing the traditional Deep Q-Network (DQN) architecture with a [dueling architecture](https://arxiv.org/abs/1511.06581), we can assess the value of each state, without having to learn the effect of each action.\n",
    "\n",
    "<img src='images/duel_dqn_network_comp.JPG' height=500, width=400, align=left>\n"
   ]
  },
  {
   "cell_type": "markdown",
   "metadata": {},
   "source": [
    "At the end of the DQN network, V(S) and Q(S,A) are computed seperately and merged at the final layer.\n",
    "\n",
    "    def forward(self, state):\n",
    "        \"\"\"Build a network that maps state -> action values.\"\"\"\n",
    "        x = F.relu(self.fc1(state))\n",
    "        x = F.relu(self.fc2(x))\n",
    "        if self.use_duel_dqn:\n",
    "            return self.fc3(x)+self.v(x)         \n",
    "        else:\n",
    "            return self.fc3(x)\n",
    "          \n",
    "         "
   ]
  },
  {
   "cell_type": "code",
   "execution_count": null,
   "metadata": {},
   "outputs": [
    {
     "name": "stdout",
     "output_type": "stream",
     "text": [
      "Episode 100\tAverage Score: 0.18\n",
      "Episode 200\tAverage Score: 3.42\n",
      "Episode 300\tAverage Score: 7.08\n",
      "Episode 400\tAverage Score: 10.16\n",
      "Episode 472\tAverage Score: 13.03\n",
      "Environment solved in 372 episodes!\tAverage Score: 13.03\n",
      "Episode 500\tAverage Score: 13.79\n",
      "Episode 600\tAverage Score: 15.12\n",
      "Episode 700\tAverage Score: 15.17\n",
      "Episode 800\tAverage Score: 16.21\n",
      "Episode 900\tAverage Score: 16.76\n",
      "Episode 1000\tAverage Score: 16.63\n",
      "Episode 1100\tAverage Score: 16.14\n",
      "Episode 1200\tAverage Score: 16.45\n",
      "Episode 1300\tAverage Score: 16.56\n",
      "Episode 1400\tAverage Score: 15.96\n",
      "Episode 1500\tAverage Score: 16.26\n",
      "Episode 1600\tAverage Score: 16.24\n",
      "Episode 1700\tAverage Score: 16.67\n",
      "Episode 1800\tAverage Score: 16.73\n"
     ]
    },
    {
     "data": {
      "text/plain": [
       "<matplotlib.legend.Legend at 0x7fc2c6520eb8>"
      ]
     },
     "execution_count": 9,
     "metadata": {},
     "output_type": "execute_result"
    },
    {
     "data": {
      "image/png": "[encoded data removed]",
      "text/plain": [
       "<Figure size 432x288 with 1 Axes>"
      ]
     },
     "metadata": {},
     "output_type": "display_data"
    }
   ],
   "source": [
    "#Train Agent with Double+Duel DQN Agent \n",
    "brain_name = env.brain_names[0]\n",
    "brain = env.brains[brain_name]\n",
    "\n",
    "agent = Agent(state_size, action_size, seed=0,use_duel_dqn=True,use_double_dqn=True,use_basic=True)\n",
    "scores, mean_scores,episode_achieved = train_agent(agent)\n",
    "\n",
    "condition.append([1, 1,'FC64'])\n",
    "score_history.append(max(scores))\n",
    "mean_score_history.append(max(mean_scores))\n",
    "first_episode_achieved.append(episode_achieved)\n",
    "\n",
    "# plot the scores\n",
    "fig = plt.figure()\n",
    "ax = fig.add_subplot(111)\n",
    "plt.plot(np.arange(len(scores)), scores, label='Double+ Dueling DQN+FC64')\n",
    "plt.plot(np.arange(len(scores)), mean_scores, c='r', label='Mean Avearge Score')\n",
    "plt.ylabel('Score')\n",
    "plt.xlabel('Episode #')\n",
    "plt.legend(loc='upper left')\n",
    "\n"
   ]
  },
  {
   "cell_type": "markdown",
   "metadata": {},
   "source": [
    "#### Experiment with Different Q nueral network architecture\n",
    "\n",
    "The default deep neural netowrk is designed with 2 hidden layers of 64,32 nodes. You can change 3 hidden layers of 128,64,32 nodes by setting \"use_basic\" option to False\n"
   ]
  },
  {
   "cell_type": "code",
   "execution_count": null,
   "metadata": {},
   "outputs": [],
   "source": [
    "#Train Agent with DQN agent\n",
    "agent = Agent(state_size, action_size, seed=0, use_duel_dqn=False, use_double_dqn=False,use_basic=False)\n",
    "scores, mean_scores,episode_achieved = train_agent(agent)\n",
    "condition.append([0, 0,'FC128'])\n",
    "score_history.append(max(scores))\n",
    "mean_score_history.append(max(mean_scores))\n",
    "first_episode_achieved.append(episode_achieved)\n",
    "\n",
    "# plot the scores\n",
    "fig = plt.figure()\n",
    "ax = fig.add_subplot(111)\n",
    "plt.plot(np.arange(len(scores)), scores, label='DQN Only+FC128')\n",
    "plt.plot(np.arange(len(scores)), mean_scores, c='r', label='Mean Avearge Score')\n",
    "plt.ylabel('Score')\n",
    "plt.xlabel('Episode #')\n",
    "plt.legend(loc='upper left')\n",
    "plt.show()"
   ]
  },
  {
   "cell_type": "code",
   "execution_count": null,
   "metadata": {},
   "outputs": [],
   "source": [
    "agent = Agent(state_size, action_size, seed=0,use_duel_dqn=False, use_double_dqn=True, use_basic=False)\n",
    "\n",
    "scores, mean_scores,episode_achieved = train_agent(agent)\n",
    "condition.append([0, 1,'FC128'])\n",
    "score_history.append(max(scores))\n",
    "mean_score_history.append(max(mean_scores))\n",
    "first_episode_achieved.append(episode_achieved)\n",
    "\n",
    "# plot the scores\n",
    "fig = plt.figure()\n",
    "ax = fig.add_subplot(111)\n",
    "plt.plot(np.arange(len(scores)), scores, label='Double DQN+FC128')\n",
    "plt.plot(np.arange(len(scores)), mean_scores, c='r', label='Mean Avearge Score')\n",
    "plt.ylabel('Score')\n",
    "plt.xlabel('Episode #')\n",
    "plt.legend(loc='upper left')\n",
    "plt.show()"
   ]
  },
  {
   "cell_type": "code",
   "execution_count": null,
   "metadata": {},
   "outputs": [],
   "source": [
    "brain_name = env.brain_names[0]\n",
    "brain = env.brains[brain_name]\n",
    "\n",
    "agent = Agent(state_size, action_size, seed=0,use_duel_dqn=True,use_double_dqn=True,use_basic=False)\n",
    "scores, mean_scores,episode_achieved = train_agent(agent)\n",
    "\n",
    "condition.append([1, 1,'FC128'])\n",
    "score_history.append(max(scores))\n",
    "mean_score_history.append(max(mean_scores))\n",
    "first_episode_achieved.append(episode_achieved)\n",
    "\n",
    "# plot the scores\n",
    "fig = plt.figure()\n",
    "ax = fig.add_subplot(111)\n",
    "plt.plot(np.arange(len(scores)), scores, label='Double+ Dueling DQN+FC128')\n",
    "plt.plot(np.arange(len(scores)), mean_scores, c='r', label='Mean Avearge Score')\n",
    "plt.ylabel('Score')\n",
    "plt.xlabel('Episode #')\n",
    "plt.legend(loc='upper left')\n"
   ]
  },
  {
   "cell_type": "markdown",
   "metadata": {},
   "source": [
    "#### Compare results with different algorithms. \n",
    "\n",
    "Below codes print out results from previous experiments. Each clolums represents followings.\n",
    "- [duel,double,netowrk] : Algorithms(dueling DQN, Double DQN) used. 1 Represent that algorithm is used while 0 represent it is not used. [0 0] reprsent just Vanilla DQN is used. \n",
    "- MaxScore: Max. Score achieved\n",
    "- MaxMeanScore: Max. Mean Score Achieved\n",
    "- F_Episode: First Episode that the goal(+13) was achieved:"
   ]
  },
  {
   "cell_type": "code",
   "execution_count": null,
   "metadata": {},
   "outputs": [],
   "source": [
    "df = pd.DataFrame(data=[condition, score_history, mean_score_history, first_episode_achieved])\n",
    "df=df.T\n",
    "\n",
    "df.columns = ['[duel,double,network]', 'MaxScore','MaxMeanScore','F_Episode']\n",
    "print(df)\n"
   ]
  },
  {
   "cell_type": "code",
   "execution_count": null,
   "metadata": {},
   "outputs": [],
   "source": [
    "env.close()"
   ]
  }
 ],
 "metadata": {
  "kernelspec": {
   "display_name": "conda_pytorch_p36",
   "language": "python",
   "name": "conda_pytorch_p36"
  }
 },
 "nbformat": 4,
 "nbformat_minor": 4
}
